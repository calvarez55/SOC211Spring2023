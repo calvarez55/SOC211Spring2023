{
 "cells": [
  {
   "cell_type": "code",
   "execution_count": 1,
   "id": "bed6cc9c",
   "metadata": {},
   "outputs": [],
   "source": [
    "import pandas as pd"
   ]
  },
  {
   "cell_type": "code",
   "execution_count": 2,
   "id": "2a7b2dd4",
   "metadata": {},
   "outputs": [],
   "source": [
    "ca_table = pd.read_html('https://www.eeoc.gov/statistics/enforcement/charges-by-state/CA')"
   ]
  },
  {
   "cell_type": "code",
   "execution_count": 16,
   "id": "350dda0f",
   "metadata": {
    "scrolled": true
   },
   "outputs": [
    {
     "data": {
      "text/plain": [
       "[                                 Unnamed: 0 FY 2009 FY 2010 FY 2011 FY 2012   \n",
       " 0                             TOTAL CHARGES    6654    7161    7166    7399  \\\n",
       " 1                     % of US total charges    7.1%    7.2%    7.2%    7.4%   \n",
       " 2                                      Race    2251    2239    2372    2299   \n",
       " 3                      % of US race charges    6.7%    6.2%    6.7%    6.9%   \n",
       " 4                  % of total state charges   33.8%   31.3%   33.1%   31.1%   \n",
       " 5                                       Sex    1893    1846    1925    2036   \n",
       " 6                       % of US sex charges    6.8%    6.4%    6.7%    6.7%   \n",
       " 7                  % of total state charges   28.4%   25.8%   26.9%   27.5%   \n",
       " 8                           National Origin    1319    1354    1355    1350   \n",
       " 9           % of US National Origin charges   11.8%   12.0%   11.5%   12.4%   \n",
       " 10                 % of total state charges   19.8%   18.9%   18.9%   18.2%   \n",
       " 11                                 Religion     287     329     394     345   \n",
       " 12                 % of US Religion charges    8.5%    8.7%    9.5%    9.1%   \n",
       " 13                 % of total state charges    4.3%    4.6%    5.5%    4.7%   \n",
       " 14                                    Color     250     228     249     269   \n",
       " 15                    % of US Color charges    8.5%    8.2%    8.8%   10.1%   \n",
       " 16                 % of total state charges    3.8%    3.2%    3.5%    3.6%   \n",
       " 17                        Retaliation (All)    2707    2939    3195    3406   \n",
       " 18        % of US Retaliation (All) charges    8.1%    8.1%    8.6%    9.0%   \n",
       " 19                 % of total state charges   40.7%   41.0%   44.6%   46.0%   \n",
       " 20                  Retaliation (Title VII)    2225    2408    2542    2698   \n",
       " 21  % of US Retaliation (Title VII) charges    7.7%    7.8%    8.1%    8.6%   \n",
       " 22                 % of total state charges   33.4%   33.6%   35.5%   36.5%   \n",
       " 23                                      Age    1855    1856    1852    1833   \n",
       " 24                      % of US Age charges    8.1%    8.0%    7.9%    8.0%   \n",
       " 25                 % of total state charges   27.9%   25.9%   25.8%   25.6%   \n",
       " 26                               Disability    1586    2017    2110    2236   \n",
       " 27               % of US Disability charges    7.4%    8.0%    8.2%    8.5%   \n",
       " 28                 % of total state charges   23.8%   28.2%   29.4%   30.2%   \n",
       " 29                            Equal Pay Act      59      55      50      56   \n",
       " 30                      % of US EPA charges    6.3%    5.3%    5.4%    5.2%   \n",
       " 31                 % of total state charges    0.9%    0.8%    0.7%    0.8%   \n",
       " 32                                    GINA*       0      15      25      35   \n",
       " 33                     % of US GINA charges    0.0%    7.5%   10.2%   12.5%   \n",
       " 34                 % of total state charges    0.0%    0.2%    0.3%    0.5%   \n",
       " \n",
       "    FY 2013 FY 2014 FY 2015 FY 2016 FY 2017 FY 2018 FY 2019 FY 2020 FY 2021  \n",
       " 0     6892    6363    6199    5870    5423    4344    4276    4130    3865  \n",
       " 1     7.4%    7.2%    7.0%    6.4%    6.4%    5.7%    5.9%    6.1%    5.7%  \n",
       " 2     2285    2176    2015    1905    1811    1365    1421    1397    1370  \n",
       " 3     6.9%    7.0%    6.5%    5.9%    6.3%    5.5%    5.9%    6.3%    6.2%  \n",
       " 4    33.2%   34.2%   32.5%   32.5%   33.4%   31.4%   33.2%   33.8%   35.4%  \n",
       " 5     1824    1705    1729    1560    1500    1330    1321    1260    1130  \n",
       " 6     6.6%    6.6%    6.6%    5.8%    5.9%    5.4%    5.6%    5.9%    5.3%  \n",
       " 7    26.5%   26.8%   27.9%   26.6%   27.7%   30.6%   30.9%   30.5%   29.2%  \n",
       " 8     1170    1101    1058     930     786     619     697     634     626  \n",
       " 9    11.0%   11.5%   11.0%    9.5%    9.5%    8.7%    9.9%    9.9%    9.8%  \n",
       " 10   17.0%   17.3%   16.6%   15.8%   14.5%   14.2%   16.3%   15.4%   16.2%  \n",
       " 11     335     282     293     274     270     170     175     197     184  \n",
       " 12    9.0%    7.9%    8.3%    7.2%    7.9%    5.9%    6.4%    8.2%    7.7%  \n",
       " 13    4.9%    4.4%    4.7%    4.7%    5.0%    3.9%    4.1%    4.8%    4.8%  \n",
       " 14     279     270     239     192     190     191     185     248     272  \n",
       " 15    8.9%    9.8%    8.7%    6.2%    5.9%    6.0%    5.4%    7.0%    7.6%  \n",
       " 16    4.0%    4.2%    3.9%    3.3%    3.5%    4.4%    4.3%    6.0%    7.0%  \n",
       " 17    3223    3088    2926    2937    2752    2183    2319    2306    2158  \n",
       " 18    8.4%    8.1%    7.7%    7.0%    6.4%    5.5%    5.9%    6.1%    5.7%  \n",
       " 19   46.8%   48.5%   47.2%   50.0%   50.7%   50.3%   54.2%   55.8%   55.8%  \n",
       " 20    2509    2439    2292    2193    2051    1622    1708    1698    1581  \n",
       " 21    8.0%    7.9%    7.4%    6.6%    6.4%    5.3%    5.7%    6.1%    5.6%  \n",
       " 22   36.4%   38.3%   37.0%   37.4%   37.8%   37.3%   39.9%   41.1%   40.9%  \n",
       " 23    1799    1569    1572    1517    1374    1062    1065     985    1010  \n",
       " 24    8.4%    7.6%    7.6%    7.3%    7.5%    6.3%    6.8%    6.9%    7.1%  \n",
       " 25   26.1%   24.7%   25.4%   25.8%   25.3%   24.4%   24.9%   23.8%   26.1%  \n",
       " 26    2125    1988    1975    1912    1915    1499    1487    1502    1381  \n",
       " 27    8.2%    7.8%    7.8%    6.8%    7.1%    6.1%    6.1%    6.2%    5.7%  \n",
       " 28   30.8%   31.2%   31.9%   32.6%   35.3%   34.5%   34.8%   36.4%   35.7%  \n",
       " 29      52      46      66      99      80      85      71      84      78  \n",
       " 30    5.1%    4.9%    7.0%    9.2%    8.0%    8.0%    6.4%    8.6%    8.0%  \n",
       " 31    0.8%    0.7%    1.1%    1.7%    1.5%    2.0%    1.7%    2.0%    2.0%  \n",
       " 32      20      23      22      24      17      13      18      13      19  \n",
       " 33    6.0%    6.9%    6.6%   10.1%    8.3%    5.9%    8.6%    3.0%    4.3%  \n",
       " 34    0.3%    0.4%    0.4%    0.4%    0.3%    0.3%    0.4%    0.3%    0.5%  ]"
      ]
     },
     "execution_count": 16,
     "metadata": {},
     "output_type": "execute_result"
    }
   ],
   "source": [
    "ca_table"
   ]
  },
  {
   "cell_type": "code",
   "execution_count": 19,
   "id": "61917643",
   "metadata": {},
   "outputs": [],
   "source": [
    "ca_df=pd.concat(ca_table)"
   ]
  },
  {
   "cell_type": "code",
   "execution_count": null,
   "id": "ef9b716e",
   "metadata": {},
   "outputs": [],
   "source": []
  },
  {
   "cell_type": "code",
   "execution_count": 9,
   "id": "b5a2dae0",
   "metadata": {},
   "outputs": [
    {
     "name": "stdout",
     "output_type": "stream",
     "text": [
      "C:\\Users\\acade\\Documents\\teaching\\SOC 211 spring 2023\\week13\\jullanar\n"
     ]
    }
   ],
   "source": [
    "cd \"C:\\Users\\acade\\Documents\\teaching\\SOC 211 spring 2023\\week13\\jullanar\""
   ]
  },
  {
   "cell_type": "code",
   "execution_count": 21,
   "id": "b3d8049a",
   "metadata": {},
   "outputs": [],
   "source": [
    "ca_df.to_csv(\"EEO1.csv\")"
   ]
  },
  {
   "cell_type": "code",
   "execution_count": 18,
   "id": "7f765549",
   "metadata": {},
   "outputs": [
    {
     "data": {
      "text/plain": [
       "list"
      ]
     },
     "execution_count": 18,
     "metadata": {},
     "output_type": "execute_result"
    }
   ],
   "source": [
    "type(ca_table)"
   ]
  },
  {
   "cell_type": "code",
   "execution_count": null,
   "id": "5abcca05",
   "metadata": {},
   "outputs": [],
   "source": []
  }
 ],
 "metadata": {
  "kernelspec": {
   "display_name": "Python 3 (ipykernel)",
   "language": "python",
   "name": "python3"
  },
  "language_info": {
   "codemirror_mode": {
    "name": "ipython",
    "version": 3
   },
   "file_extension": ".py",
   "mimetype": "text/x-python",
   "name": "python",
   "nbconvert_exporter": "python",
   "pygments_lexer": "ipython3",
   "version": "3.8.5"
  }
 },
 "nbformat": 4,
 "nbformat_minor": 5
}
