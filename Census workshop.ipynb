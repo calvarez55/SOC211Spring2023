{
 "cells": [
  {
   "cell_type": "markdown",
   "id": "5bb07889",
   "metadata": {},
   "source": [
    "# Census workshop\n",
    "The census is a popular secondary data source in sociology. In this workbook, we will use NHGIS to download census data and clean it in Stata.\n",
    "\n",
    "<a id=\"https://www.nhgis.org/\">NHGIS</a> is a data hub for census data over time. They have sorted the data made it easy to download. If you use NHGIS data, you must cite them (the citation information is found on their website). You need to make an account in order to use the site. Once you are logged in, click \"Select Data\" in the top right hand corner.\n",
    "\n",
    "For census data, there are two main dataset:\n",
    "### Census\n",
    "The Census reports data every ten years. They only report race, ethnicity, and home renter/owner. Note that how the census defines race and ethnicity HAS CHANGED over time. If possible, use the Census data. Census data is more reliable as compared to ACS.\n",
    "\n",
    "### American Community Survey\n",
    "The American Community Survey (ACS) is report more frequently than the Census. The ACS also report MORE information than the census. ACS reports income, family structures, educational attainment, etc... The ACS has different waves of data: 5-year wave and 3-year wave. Generally census tracts and census blocks are reported ONLY at the five-year wave. Counties and states are reported at the 3-year wave. Generally, the smaller geographic areas are less reliable. For example census tracts are more reliable than census blocks.\n",
    "\n",
    "There are four green tabs:\n",
    "#### Geographic Levels\n",
    "You can chose a variety of level of analysis such as census tract, county, state, etc..\n",
    "#### Years\n",
    "You can pick years or waves\n",
    "#### Topics\n",
    "There are many topics you can choose from\n",
    "#### Datasets\n",
    "\n",
    "#### OR AND\n",
    "You can choose \"or\" and \"and\" options"
   ]
  },
  {
   "cell_type": "markdown",
   "id": "f67071d7",
   "metadata": {},
   "source": [
    "### An Example\n",
    "I am going to choose a dataset for county-level for the 3-wave 2011-2013. We want race, ethnicity, and income data. Click the \"Popularity\" tab to get the most popular data. You can click \"table name\" variable title and it will give you a breakdown of the variable. Click the green plus arrow to pick the data. Then download. It takes time to download.\n",
    "\n",
    "Once the file is ready, you can download it. You have to unzip the file.\n",
    "\n",
    "Once the file is unzipped, there is the .csv (data) and .txt (codebook) file.\n",
    "\n",
    "You must look at the codebook to figure out what variables. The geographic variables will make up unqiue ID."
   ]
  },
  {
   "cell_type": "code",
   "execution_count": 5,
   "id": "a87febdb",
   "metadata": {},
   "outputs": [
    {
     "name": "stdout",
     "output_type": "stream",
     "text": [
      "\n",
      "C:\\Users\\acade\\Documents\\teaching\\SOC 211 spring 2023\n",
      "\n",
      "(encoding automatically selected: ISO-8859-1)\n",
      "(73 vars, 1,910 obs)\n"
     ]
    }
   ],
   "source": [
    "*set-up directory\n",
    "cd \"C:\\Users\\acade\\Documents\\teaching\\SOC 211 spring 2023\"\n",
    "\n",
    "*import the the nhgis csv\n",
    "import delimited \"C:\\Users\\acade\\Documents\\teaching\\SOC 211 spring 2023\\census workshop\\nhgis0130_csv\\nhgis0130_ds200_20133_county.csv\""
   ]
  },
  {
   "cell_type": "markdown",
   "id": "cabb58af",
   "metadata": {},
   "source": [
    "## Make a unique identifier\n",
    "Census distinguishes geographic areas. Every state, county, tract, and block have a number. You can put them together to make a unique identifier.\n",
    "\n",
    "FOr this example, we are going to make a FIPS code:\n",
    "_ _ _ _ _\n",
    "The first two digits is state number\n",
    "The last three digits is county number"
   ]
  },
  {
   "cell_type": "code",
   "execution_count": 9,
   "id": "925fae37",
   "metadata": {
    "scrolled": true
   },
   "outputs": [
    {
     "name": "stdout",
     "output_type": "stream",
     "text": [
      "\n",
      "\n",
      "Contains data\n",
      " Observations:         1,910                  \n",
      "    Variables:            73                  \n",
      "--------------------------------------------------------------------------------\n",
      "Variable      Storage   Display    Value\n",
      "    name         type    format    label      Variable label\n",
      "--------------------------------------------------------------------------------\n",
      "gisjoin         str8    %9s                   GISJOIN\n",
      "year            str9    %9s                   YEAR\n",
      "stusab          str2    %9s                   STUSAB\n",
      "regiona         byte    %8.0g                 REGIONA\n",
      "divisiona       byte    %8.0g                 DIVISIONA\n",
      "state           str20   %20s                  STATE\n",
      "statea          byte    %8.0g                 STATEA\n",
      "county          str28   %28s                  COUNTY\n",
      "countya         int     %8.0g                 COUNTYA\n",
      "cousuba         byte    %8.0g                 COUSUBA\n",
      "placea          byte    %8.0g                 PLACEA\n",
      "aianhha         byte    %8.0g                 AIANHHA\n",
      "anrca           byte    %8.0g                 ANRCA\n",
      "cbsaa           byte    %8.0g                 CBSAA\n",
      "csaa            byte    %8.0g                 CSAA\n",
      "metdiva         byte    %8.0g                 METDIVA\n",
      "nectaa          byte    %8.0g                 NECTAA\n",
      "cnectaa         byte    %8.0g                 CNECTAA\n",
      "nectadiva       byte    %8.0g                 NECTADIVA\n",
      "uaa             byte    %8.0g                 UAA\n",
      "cdcurra         byte    %8.0g                 CDCURRA\n",
      "sdelma          byte    %8.0g                 SDELMA\n",
      "sdseca          byte    %8.0g                 SDSECA\n",
      "sdunia          byte    %8.0g                 SDUNIA\n",
      "pci             byte    %8.0g                 PCI\n",
      "pumaa           byte    %8.0g                 PUMAA\n",
      "geoid           str12   %12s                  GEOID\n",
      "name_e          str42   %42s                  NAME_E\n",
      "td9e001         long    %12.0g                TD9E001\n",
      "td9e002         long    %12.0g                TD9E002\n",
      "td9e003         long    %12.0g                TD9E003\n",
      "td9e004         long    %12.0g                TD9E004\n",
      "td9e005         long    %12.0g                TD9E005\n",
      "td9e006         long    %12.0g                TD9E006\n",
      "td9e007         long    %12.0g                TD9E007\n",
      "td9e008         long    %12.0g                TD9E008\n",
      "td9e009         long    %12.0g                TD9E009\n",
      "td9e010         int     %8.0g                 TD9E010\n",
      "td9e011         long    %12.0g                TD9E011\n",
      "td9e012         long    %12.0g                TD9E012\n",
      "td9e013         long    %12.0g                TD9E013\n",
      "td9e014         long    %12.0g                TD9E014\n",
      "td9e015         long    %12.0g                TD9E015\n",
      "td9e016         int     %8.0g                 TD9E016\n",
      "td9e017         int     %8.0g                 TD9E017\n",
      "td9e018         long    %12.0g                TD9E018\n",
      "td9e019         long    %12.0g                TD9E019\n",
      "td9e020         long    %12.0g                TD9E020\n",
      "td9e021         long    %12.0g                TD9E021\n",
      "txbe001         long    %12.0g                TXBE001\n",
      "name_m          str42   %42s                  NAME_M\n",
      "td9m001         byte    %8.0g                 TD9M001\n",
      "td9m002         int     %8.0g                 TD9M002\n",
      "td9m003         int     %8.0g                 TD9M003\n",
      "td9m004         int     %8.0g                 TD9M004\n",
      "td9m005         int     %8.0g                 TD9M005\n",
      "td9m006         int     %8.0g                 TD9M006\n",
      "td9m007         int     %8.0g                 TD9M007\n",
      "td9m008         int     %8.0g                 TD9M008\n",
      "td9m009         int     %8.0g                 TD9M009\n",
      "td9m010         int     %8.0g                 TD9M010\n",
      "td9m011         int     %8.0g                 TD9M011\n",
      "td9m012         int     %8.0g                 TD9M012\n",
      "td9m013         int     %8.0g                 TD9M013\n",
      "td9m014         int     %8.0g                 TD9M014\n",
      "td9m015         int     %8.0g                 TD9M015\n",
      "td9m016         int     %8.0g                 TD9M016\n",
      "td9m017         int     %8.0g                 TD9M017\n",
      "td9m018         int     %8.0g                 TD9M018\n",
      "td9m019         int     %8.0g                 TD9M019\n",
      "td9m020         int     %8.0g                 TD9M020\n",
      "td9m021         int     %8.0g                 TD9M021\n",
      "txbm001         int     %8.0g                 TXBM001\n",
      "--------------------------------------------------------------------------------\n",
      "Sorted by: \n",
      "     Note: Dataset has changed since last saved.\n",
      "\n",
      "\n",
      "     +------------------------------------------------------------------------+\n",
      "  1. |  gisjoin |      year | stusab | regiona | divisi~a |   state | statea  |\n",
      "     | G0100010 | 2011-2013 |     AL |       . |        . | Alabama |      1  |\n",
      "     |------------------------------------------------------------------------|\n",
      "     |         county | countya | cousuba | placea | aianhha | anrca | cbsaa  |\n",
      "     | Autauga County |       1 |       . |      . |       . |     . |     .  |\n",
      "     |----------------+-------------------------------------------------------|\n",
      "     | csaa | metdiva | nectaa | cnectaa | nectad~a | uaa | cdcurra | sdelma  |\n",
      "     |    . |       . |      . |       . |        . |   . |       . |      .  |\n",
      "     |----------------------------------------------+-------------------------|\n",
      "     | sdseca | sdunia | pci | pumaa |        geoid |                  name_e |\n",
      "     |      . |      . |   . |     . | 05000US01001 | Autauga County, Alabama |\n",
      "     |------------------------------------------------------------------------|\n",
      "     | td9e001 | td9e002 | td9e003 | td9e004 | td9e005  | td9e006  | td9e007  |\n",
      "     |       . |       . |       . |       . |       .  |       .  |       .  |\n",
      "     |---------+---------+---------+---------+----------+----------+----------|\n",
      "     | td9e008 | td9e009 | td9e010 | td9e011 | td9e012  | td9e013  | td9e014  |\n",
      "     |       . |       . |       . |       . |       .  |       .  |       .  |\n",
      "     |---------+---------+---------+---------+----------+----------+----------|\n",
      "     | td9e015 | td9e016 | td9e017 | td9e018 | td9e019  | td9e020  | td9e021  |\n",
      "     |       . |       . |       . |       . |       .  |       .  |       .  |\n",
      "     |------------------------------------------------------------------------|\n",
      "     | txbe001  |                  name_m  | td9m001  |  td9m002  |  td9m003  |\n",
      "     |   48995  | Autauga County, Alabama  |       .  |        .  |        .  |\n",
      "     |------------------------------------------------------------------------|\n",
      "     | td9m004 | td9m005 | td9m006 | td9m007 | td9m008  | td9m009  | td9m010  |\n",
      "     |       . |       . |       . |       . |       .  |       .  |       .  |\n",
      "     |---------+---------+---------+---------+----------+----------+----------|\n",
      "     | td9m011 | td9m012 | td9m013 | td9m014 | td9m015  | td9m016  | td9m017  |\n",
      "     |       . |       . |       . |       . |       .  |       .  |       .  |\n",
      "     |------------------------------------------------------------------------|\n",
      "     |   td9m018   |   td9m019   |   td9m020    |   td9m021    |   txbm001    |\n",
      "     |         .   |         .   |         .    |         .    |      5346    |\n",
      "     +------------------------------------------------------------------------+\n",
      "\n",
      "     +------------------------------------------------------------------------+\n",
      "  2. |  gisjoin |      year | stusab | regiona | divisi~a |   state | statea  |\n",
      "     | G0100030 | 2011-2013 |     AL |       . |        . | Alabama |      1  |\n",
      "     |------------------------------------------------------------------------|\n",
      "     |         county | countya | cousuba | placea | aianhha | anrca | cbsaa  |\n",
      "     | Baldwin County |       3 |       . |      . |       . |     . |     .  |\n",
      "     |----------------+-------------------------------------------------------|\n",
      "     | csaa | metdiva | nectaa | cnectaa | nectad~a | uaa | cdcurra | sdelma  |\n",
      "     |    . |       . |      . |       . |        . |   . |       . |      .  |\n",
      "     |----------------------------------------------+-------------------------|\n",
      "     | sdseca | sdunia | pci | pumaa |        geoid |                  name_e |\n",
      "     |      . |      . |   . |     . | 05000US01003 | Baldwin County, Alabama |\n",
      "     |------------------------------------------------------------------------|\n",
      "     | td9e001 | td9e002 | td9e003 | td9e004 | td9e005  | td9e006  | td9e007  |\n"
     ]
    },
    {
     "name": "stdout",
     "output_type": "stream",
     "text": [
      "     |       . |       . |       . |       . |       .  |       .  |       .  |\n",
      "     |---------+---------+---------+---------+----------+----------+----------|\n",
      "     | td9e008 | td9e009 | td9e010 | td9e011 | td9e012  | td9e013  | td9e014  |\n",
      "     |       . |       . |       . |       . |       .  |       .  |       .  |\n",
      "     |---------+---------+---------+---------+----------+----------+----------|\n",
      "     | td9e015 | td9e016 | td9e017 | td9e018 | td9e019  | td9e020  | td9e021  |\n",
      "     |       . |       . |       . |       . |       .  |       .  |       .  |\n",
      "     |------------------------------------------------------------------------|\n",
      "     | txbe001  |                  name_m  | td9m001  |  td9m002  |  td9m003  |\n",
      "     |   49381  | Baldwin County, Alabama  |       .  |        .  |        .  |\n",
      "     |------------------------------------------------------------------------|\n",
      "     | td9m004 | td9m005 | td9m006 | td9m007 | td9m008  | td9m009  | td9m010  |\n",
      "     |       . |       . |       . |       . |       .  |       .  |       .  |\n",
      "     |---------+---------+---------+---------+----------+----------+----------|\n",
      "     | td9m011 | td9m012 | td9m013 | td9m014 | td9m015  | td9m016  | td9m017  |\n",
      "     |       . |       . |       . |       . |       .  |       .  |       .  |\n",
      "     |------------------------------------------------------------------------|\n",
      "     |   td9m018   |   td9m019   |   td9m020    |   td9m021    |   txbm001    |\n",
      "     |         .   |         .   |         .    |         .    |      2058    |\n",
      "     +------------------------------------------------------------------------+\n"
     ]
    }
   ],
   "source": [
    "desc\n",
    "\n",
    "list in 1/2"
   ]
  },
  {
   "cell_type": "code",
   "execution_count": 10,
   "id": "3b6d3cf4",
   "metadata": {},
   "outputs": [
    {
     "name": "stdout",
     "output_type": "stream",
     "text": [
      "\n",
      "\n",
      "\n",
      "\n",
      "fips_str: all characters numeric; fips generated as long\n"
     ]
    }
   ],
   "source": [
    "*The lines below create a unqiue fips id\n",
    "* fips = _ _ \t_ _ _\n",
    "*\t\tSTATE\tCOUNTY\n",
    "gen state_str= string(statea,\"%02.0f\")\n",
    "\n",
    "gen county_str= string(countya,\"%03.0f\")\n",
    "\n",
    "egen fips_str= concat(state_str county_str)\n",
    "\n",
    "destring fips_str, generate(fips)"
   ]
  },
  {
   "cell_type": "markdown",
   "id": "bb9fe4b7",
   "metadata": {},
   "source": [
    "### Generally, you want to use percentages"
   ]
  },
  {
   "cell_type": "code",
   "execution_count": 11,
   "id": "50cccee6",
   "metadata": {},
   "outputs": [
    {
     "name": "stdout",
     "output_type": "stream",
     "text": [
      "\n",
      "(998 missing values generated)\n",
      "\n",
      "(998 missing values generated)\n",
      "\n",
      "(998 missing values generated)\n"
     ]
    }
   ],
   "source": [
    "gen latper=100*(td9e012/td9e001)\n",
    "\n",
    "gen blk_ntlatper=100*(td9e004/td9e001)\n",
    "\n",
    "gen wht_ntlatper=100*(td9e003/td9e001)"
   ]
  },
  {
   "cell_type": "code",
   "execution_count": 12,
   "id": "f59d0942",
   "metadata": {},
   "outputs": [],
   "source": [
    "rename txbe001 medhhincome"
   ]
  },
  {
   "cell_type": "markdown",
   "id": "6142d439",
   "metadata": {},
   "source": [
    "## Practice making a dataset of your own"
   ]
  },
  {
   "cell_type": "code",
   "execution_count": null,
   "id": "2cf0bb95",
   "metadata": {},
   "outputs": [],
   "source": []
  },
  {
   "cell_type": "code",
   "execution_count": null,
   "id": "1e03835c",
   "metadata": {},
   "outputs": [],
   "source": []
  },
  {
   "cell_type": "code",
   "execution_count": null,
   "id": "07cd697c",
   "metadata": {},
   "outputs": [],
   "source": []
  },
  {
   "cell_type": "code",
   "execution_count": null,
   "id": "4b71f999",
   "metadata": {},
   "outputs": [],
   "source": []
  },
  {
   "cell_type": "code",
   "execution_count": null,
   "id": "37c111a7",
   "metadata": {},
   "outputs": [],
   "source": []
  },
  {
   "cell_type": "code",
   "execution_count": null,
   "id": "54830db5",
   "metadata": {},
   "outputs": [],
   "source": []
  },
  {
   "cell_type": "markdown",
   "id": "62d372af",
   "metadata": {},
   "source": []
  }
 ],
 "metadata": {
  "kernelspec": {
   "display_name": "Stata",
   "language": "stata",
   "name": "stata"
  },
  "language_info": {
   "codemirror_mode": "stata",
   "file_extension": ".do",
   "mimetype": "text/x-stata",
   "name": "stata",
   "version": "15.1"
  }
 },
 "nbformat": 4,
 "nbformat_minor": 5
}
