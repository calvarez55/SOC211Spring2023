{
 "cells": [
  {
   "cell_type": "markdown",
   "metadata": {},
   "source": [
    "# Workshop #3"
   ]
  },
  {
   "cell_type": "markdown",
   "metadata": {},
   "source": [
    "## Conduct preliminary analysis using the inference statistics (such as logistic regression, panel analysis, etc…).  Explain below what you plan to do."
   ]
  },
  {
   "cell_type": "markdown",
   "metadata": {},
   "source": [
    "To evaluate preliminary findings of the research question, I used a random-effects logistic regression model. I used a logistic regression models because the dependent variable is binary, catogorical variable. The random effects part means we examine difference between and within census tracts. "
   ]
  },
  {
   "cell_type": "markdown",
   "metadata": {},
   "source": [
    "## Save your code and output. Make sure to include the output you are explaining in the next question."
   ]
  },
  {
   "cell_type": "code",
   "execution_count": 2,
   "metadata": {},
   "outputs": [
    {
     "name": "stdout",
     "output_type": "stream",
     "text": [
      "\n",
      "C:\\Users\\acade\\Box\\research backup 5 30 21\\BRAC\\data\n",
      "\n"
     ]
    }
   ],
   "source": [
    "cd \"C:\\Users\\acade\\Box\\research backup 5 30 21\\BRAC\\data\"\n",
    "use \"tract ncdb.dta\", clear"
   ]
  },
  {
   "cell_type": "code",
   "execution_count": 3,
   "metadata": {},
   "outputs": [
    {
     "name": "stdout",
     "output_type": "stream",
     "text": [
      "(j = 1970 1980 1990 2000 2010)\n",
      "\n",
      "Data                               Wide   ->   Long\n",
      "-----------------------------------------------------------------------------\n",
      "Number of observations              155   ->   775         \n",
      "Number of variables                  61   ->   22          \n",
      "j variable (5 values)                     ->   year\n",
      "xij variables:\n",
      "   whtper1970 whtper1980 ... whtper2010   ->   whtper\n",
      "   blkper1970 blkper1980 ... blkper2010   ->   blkper\n",
      "   latper1970 latper1980 ... latper2010   ->   latper\n",
      "   ffhper1970 ffhper1980 ... ffhper2010   ->   ffhper\n",
      "      hsper1970 hsper1980 ... hsper2010   ->   hsper\n",
      "profper1970 profper1980 ... profper2010   ->   profper\n",
      "   povper1970 povper1980 ... povper2010   ->   povper\n",
      "   avginc1970 avginc1980 ... avginc2010   ->   avginc\n",
      "   ownper1970 ownper1980 ... ownper2010   ->   ownper\n",
      "            npl1970 npl1980 ... npl2010   ->   npl\n",
      "-----------------------------------------------------------------------------\n"
     ]
    }
   ],
   "source": [
    "reshape long whtper blkper latper ffhper hsper profper povper avginc ownper npl, i(tractid bracyear closureor installati npl_status superfund geohack_id state npl_yr) j(year)"
   ]
  },
  {
   "cell_type": "code",
   "execution_count": 4,
   "metadata": {},
   "outputs": [
    {
     "name": "stdout",
     "output_type": "stream",
     "text": [
      "\n",
      "\n",
      "Panel variable: tractid (unbalanced)\n",
      "\n",
      "\n",
      "Fitting comparison model:\n",
      "\n",
      "Iteration 0:   log likelihood =   -263.642  \n",
      "Iteration 1:   log likelihood = -250.46303  \n",
      "Iteration 2:   log likelihood = -248.95885  \n",
      "Iteration 3:   log likelihood = -248.94954  \n",
      "Iteration 4:   log likelihood = -248.94954  \n",
      "\n",
      "Fitting full model:\n",
      "\n",
      "tau =  0.0     log likelihood = -248.94954\n",
      "tau =  0.1     log likelihood = -242.87952\n",
      "tau =  0.2     log likelihood = -236.57145\n",
      "tau =  0.3     log likelihood = -230.18567\n",
      "tau =  0.4     log likelihood =  -223.9033\n",
      "tau =  0.5     log likelihood = -217.92813\n",
      "tau =  0.6     log likelihood = -212.50953\n",
      "tau =  0.7     log likelihood = -208.02847\n",
      "tau =  0.8     log likelihood = -205.67277\n",
      "\n",
      "Iteration 0:   log likelihood = -208.06132  \n",
      "Iteration 1:   log likelihood = -181.29505  \n",
      "Iteration 2:   log likelihood =  -176.9781  \n",
      "Iteration 3:   log likelihood = -160.79113  (backed up)\n",
      "Iteration 4:   log likelihood =  -160.2706  \n",
      "Iteration 5:   log likelihood =  -159.8758  \n",
      "Iteration 6:   log likelihood =  -159.8758  (backed up)\n",
      "Iteration 7:   log likelihood = -159.61744  \n",
      "Iteration 8:   log likelihood = -159.51153  \n",
      "Iteration 9:   log likelihood = -159.51113  \n",
      "Iteration 10:  log likelihood = -159.51113  \n",
      "\n",
      "Random-effects logistic regression                   Number of obs    =    722\n",
      "Group variable: tractid                              Number of groups =    152\n",
      "\n",
      "Random effects u_i ~ Gaussian                        Obs per group:\n",
      "                                                                  min =      2\n",
      "                                                                  avg =    4.8\n",
      "                                                                  max =     10\n",
      "\n",
      "Integration method: mvaghermite                      Integration pts. =     12\n",
      "\n",
      "                                                     Wald chi2(5)     =  57.45\n",
      "Log likelihood = -159.51113                          Prob > chi2      = 0.0000\n",
      "\n",
      "------------------------------------------------------------------------------\n",
      "         npl | Odds ratio   Std. err.      z    P>|z|     [95% conf. interval]\n",
      "-------------+----------------------------------------------------------------\n",
      "      blkper |   .9204566   .0278951    -2.73   0.006     .8673752    .9767864\n",
      "      latper |   1.072827   .0298463     2.53   0.012     1.015895    1.132949\n",
      "      ffhper |   1.106116   .0394781     2.83   0.005     1.031385    1.186262\n",
      "      ownper |   .9609375   .0149207    -2.57   0.010      .932134     .990631\n",
      "      avginc |    1.00007     .00001     6.98   0.000      1.00005     1.00009\n",
      "       _cons |   4.30e-07   6.96e-07    -9.06   0.000     1.81e-08    .0000103\n",
      "-------------+----------------------------------------------------------------\n",
      "    /lnsig2u |   4.526854    .224755                      4.086343    4.967366\n",
      "-------------+----------------------------------------------------------------\n",
      "     sigma_u |   9.615989   1.080621                      7.715038    11.98533\n",
      "         rho |   .9656436   .0074565                      .9476233    .9776105\n",
      "------------------------------------------------------------------------------\n",
      "Note: Estimates are transformed only in the first equation to odds ratios.\n",
      "Note: _cons estimates baseline odds (conditional on zero random effects).\n",
      "LR test of rho=0: chibar2(01) = 178.88                 Prob >= chibar2 = 0.000\n"
     ]
    }
   ],
   "source": [
    "xtset tractid\n",
    "xtlogit npl blkper latper ffhper ownper avginc, or\n"
   ]
  },
  {
   "cell_type": "markdown",
   "metadata": {},
   "source": [
    "## Write 5-10 sentences explaining your findings."
   ]
  },
  {
   "cell_type": "markdown",
   "metadata": {},
   "source": [
    "I found that for estimated tract-specific significant odds ratio of 0.920 for percent of Black residents (p=0.006). This shows that for every 1 percent increase of Black residents, the conditional odds of a tract with NPL site status decreases by 8 percent. The conditional odds ratio for percent of Latinx resident is 1.073 and is reported as significant (p=0.012). Thereby, reporting for a given tract, for every 1 percent increase in Latinx residents the conditional odds of having NPL site status increases by 7.2 percent. Additionally, the conditional odds ratio for female-headed household is significantly reported as 1.106 (p=0.005)—meaning a 1 percent increase in female-headed household has a 10.6 percent increase in the tract-specific odds of being placed on the NPL. The conditional odds ratios for percent of homeowners are 0.961, and it is significant (p=0.010). A 1 percent increase in homeowners in a tract leads to a 3.4 percent decrease in the tract-specific odds of having NPL site status. Finally, a general significant increase in the conditional odds of NPL sitestatus for census tracts with higher average household income."
   ]
  },
  {
   "cell_type": "code",
   "execution_count": null,
   "metadata": {},
   "outputs": [],
   "source": []
  }
 ],
 "metadata": {
  "kernelspec": {
   "display_name": "Stata",
   "language": "stata",
   "name": "stata"
  },
  "language_info": {
   "codemirror_mode": "stata",
   "file_extension": ".do",
   "mimetype": "text/x-stata",
   "name": "stata",
   "version": "15.1"
  }
 },
 "nbformat": 4,
 "nbformat_minor": 4
}
